{
 "metadata": {
  "language_info": {
   "codemirror_mode": {
    "name": "ipython",
    "version": 3
   },
   "file_extension": ".py",
   "mimetype": "text/x-python",
   "name": "python",
   "nbconvert_exporter": "python",
   "pygments_lexer": "ipython3",
   "version": "3.8.3-final"
  },
  "orig_nbformat": 2,
  "kernelspec": {
   "name": "python3",
   "display_name": "Python 3"
  }
 },
 "nbformat": 4,
 "nbformat_minor": 2,
 "cells": [
  {
   "cell_type": "code",
   "execution_count": 5,
   "metadata": {},
   "outputs": [],
   "source": [
    "# The Meditation Case Study\n",
    "# libraries\n",
    "import pandas as pd\n",
    "import numpy as np\n",
    "\n",
    "import math \n",
    "import numpy as np\n",
    "import pandas as pd\n",
    "import seaborn as sns\n",
    "import statsmodels.api as sm\n",
    "from statsmodels.formula.api import ols\n"
   ]
  },
  {
   "cell_type": "code",
   "execution_count": 33,
   "metadata": {},
   "outputs": [
    {
     "output_type": "execute_result",
     "data": {
      "text/plain": [
       "Index(['Control_RIPK2_1', 'Control_RIPK2_2', 'Meditation_RIPK2_1',\n",
       "       'Meditation_RIPK2_2', 'Control_COX2_1', 'Control_COX2_2',\n",
       "       'Meditation_COX2_1', 'Meditation_COX2_2', 'Control_CCR7_1',\n",
       "       'Control_CCR7_2', 'Meditation_CCR7_1', 'Meditation_CCR7_2',\n",
       "       'Control_CXCR1_1', 'Control_CXCR1_2', 'Meditation_CXCR1_1',\n",
       "       'Meditation_CXCR1_2', 'Control_IL-6_1', 'Control_IL-6_2',\n",
       "       'Meditation_IL-6_1', 'Meditation_IL-6_2', 'Control_TNF_1',\n",
       "       'Control_TNF_2', 'Meditation_TNF_1', 'Meditation_TNF_2'],\n",
       "      dtype='object')"
      ]
     },
     "metadata": {},
     "execution_count": 33
    }
   ],
   "source": [
    "# import the data\n",
    "import csv\n",
    "medi = pd.read_table(\"Expression.txt\")\n",
    "\n",
    "# medi\n",
    "medi.columns"
   ]
  },
  {
   "cell_type": "code",
   "execution_count": 34,
   "metadata": {},
   "outputs": [
    {
     "output_type": "stream",
     "name": "stdout",
     "text": [
      "     Control_RIPK2_1   Control_RIPK2_2  Meditation_RIPK2_1\n0               0.70   Control_RIPK2_2                1.43\n1               0.39   Control_RIPK2_2                1.82\n2               1.22   Control_RIPK2_2                0.59\n3               1.78   Control_RIPK2_2                0.47\n4               0.59   Control_RIPK2_2                1.03\n..               ...               ...                 ...\n478             1.79  Meditation_TNF_2                0.79\n479             0.51  Meditation_TNF_2                0.54\n480             1.18  Meditation_TNF_2                0.65\n481            -0.03  Meditation_TNF_2                 NaN\n482             0.67  Meditation_TNF_2                 NaN\n\n[483 rows x 3 columns]\n"
     ]
    }
   ],
   "source": [
    "# Examples on getting tidy data\n",
    "medi_clean = pd.melt(\n",
    "    medi,\n",
    "    id_vars=['Control_RIPK2_1'],\n",
    "    var_name=['Control_RIPK2_2'],\n",
    "    value_name='Meditation_RIPK2_1'\n",
    ")\n",
    "print(medi_clean)"
   ]
  },
  {
   "cell_type": "code",
   "execution_count": 35,
   "metadata": {},
   "outputs": [
    {
     "output_type": "execute_result",
     "data": {
      "text/plain": [
       "           name  treatment_a  treatment_b\n",
       "0    John Smith          NaN            2\n",
       "1      Jane Doe         16.0           11\n",
       "2  Mary Johnson          3.0            1"
      ],
      "text/html": "<div>\n<style scoped>\n    .dataframe tbody tr th:only-of-type {\n        vertical-align: middle;\n    }\n\n    .dataframe tbody tr th {\n        vertical-align: top;\n    }\n\n    .dataframe thead th {\n        text-align: right;\n    }\n</style>\n<table border=\"1\" class=\"dataframe\">\n  <thead>\n    <tr style=\"text-align: right;\">\n      <th></th>\n      <th>name</th>\n      <th>treatment_a</th>\n      <th>treatment_b</th>\n    </tr>\n  </thead>\n  <tbody>\n    <tr>\n      <th>0</th>\n      <td>John Smith</td>\n      <td>NaN</td>\n      <td>2</td>\n    </tr>\n    <tr>\n      <th>1</th>\n      <td>Jane Doe</td>\n      <td>16.0</td>\n      <td>11</td>\n    </tr>\n    <tr>\n      <th>2</th>\n      <td>Mary Johnson</td>\n      <td>3.0</td>\n      <td>1</td>\n    </tr>\n  </tbody>\n</table>\n</div>"
     },
     "metadata": {},
     "execution_count": 35
    }
   ],
   "source": [
    "# Make a DataFrame\n",
    "df = pd.DataFrame({\n",
    "            'name': [\"John Smith\", \"Jane Doe\", \"Mary Johnson\"],\n",
    "            'treatment_a': [None, 16, 3], \n",
    "            'treatment_b': [2, 11, 1]})\n",
    "df"
   ]
  },
  {
   "cell_type": "code",
   "execution_count": 36,
   "metadata": {},
   "outputs": [],
   "source": [
    "medi_clean.to_csv('tidy_data_example1-clean.csv')\n"
   ]
  },
  {
   "cell_type": "code",
   "execution_count": 37,
   "metadata": {},
   "outputs": [
    {
     "output_type": "execute_result",
     "data": {
      "text/plain": [
       "           name     variable  value\n",
       "0    John Smith  treatment_a    NaN\n",
       "1      Jane Doe  treatment_a   16.0\n",
       "2  Mary Johnson  treatment_a    3.0\n",
       "3    John Smith  treatment_b    2.0\n",
       "4      Jane Doe  treatment_b   11.0\n",
       "5  Mary Johnson  treatment_b    1.0"
      ],
      "text/html": "<div>\n<style scoped>\n    .dataframe tbody tr th:only-of-type {\n        vertical-align: middle;\n    }\n\n    .dataframe tbody tr th {\n        vertical-align: top;\n    }\n\n    .dataframe thead th {\n        text-align: right;\n    }\n</style>\n<table border=\"1\" class=\"dataframe\">\n  <thead>\n    <tr style=\"text-align: right;\">\n      <th></th>\n      <th>name</th>\n      <th>variable</th>\n      <th>value</th>\n    </tr>\n  </thead>\n  <tbody>\n    <tr>\n      <th>0</th>\n      <td>John Smith</td>\n      <td>treatment_a</td>\n      <td>NaN</td>\n    </tr>\n    <tr>\n      <th>1</th>\n      <td>Jane Doe</td>\n      <td>treatment_a</td>\n      <td>16.0</td>\n    </tr>\n    <tr>\n      <th>2</th>\n      <td>Mary Johnson</td>\n      <td>treatment_a</td>\n      <td>3.0</td>\n    </tr>\n    <tr>\n      <th>3</th>\n      <td>John Smith</td>\n      <td>treatment_b</td>\n      <td>2.0</td>\n    </tr>\n    <tr>\n      <th>4</th>\n      <td>Jane Doe</td>\n      <td>treatment_b</td>\n      <td>11.0</td>\n    </tr>\n    <tr>\n      <th>5</th>\n      <td>Mary Johnson</td>\n      <td>treatment_b</td>\n      <td>1.0</td>\n    </tr>\n  </tbody>\n</table>\n</div>"
     },
     "metadata": {},
     "execution_count": 37
    }
   ],
   "source": [
    "df_melt = pd.melt(df, id_vars='name')\n",
    "df_melt"
   ]
  },
  {
   "cell_type": "code",
   "execution_count": 38,
   "metadata": {},
   "outputs": [
    {
     "output_type": "execute_result",
     "data": {
      "text/plain": [
       "variable          name  treatment_a  treatment_b\n",
       "0             Jane Doe         16.0         11.0\n",
       "1           John Smith          NaN          2.0\n",
       "2         Mary Johnson          3.0          1.0"
      ],
      "text/html": "<div>\n<style scoped>\n    .dataframe tbody tr th:only-of-type {\n        vertical-align: middle;\n    }\n\n    .dataframe tbody tr th {\n        vertical-align: top;\n    }\n\n    .dataframe thead th {\n        text-align: right;\n    }\n</style>\n<table border=\"1\" class=\"dataframe\">\n  <thead>\n    <tr style=\"text-align: right;\">\n      <th>variable</th>\n      <th>name</th>\n      <th>treatment_a</th>\n      <th>treatment_b</th>\n    </tr>\n  </thead>\n  <tbody>\n    <tr>\n      <th>0</th>\n      <td>Jane Doe</td>\n      <td>16.0</td>\n      <td>11.0</td>\n    </tr>\n    <tr>\n      <th>1</th>\n      <td>John Smith</td>\n      <td>NaN</td>\n      <td>2.0</td>\n    </tr>\n    <tr>\n      <th>2</th>\n      <td>Mary Johnson</td>\n      <td>3.0</td>\n      <td>1.0</td>\n    </tr>\n  </tbody>\n</table>\n</div>"
     },
     "metadata": {},
     "execution_count": 38
    }
   ],
   "source": [
    "df_melt_pivot = pd.pivot_table(df_melt,\n",
    "                               index='name',\n",
    "                               columns='variable',\n",
    "                               values='value')\n",
    "\n",
    "df_melt_pivot\n",
    "\n",
    "df_melt_pivot.reset_index()      "
   ]
  },
  {
   "cell_type": "code",
   "execution_count": 40,
   "metadata": {},
   "outputs": [
    {
     "output_type": "execute_result",
     "data": {
      "text/plain": [
       "             variable  value\n",
       "0     Control_RIPK2_1   0.70\n",
       "1     Control_RIPK2_1   0.39\n",
       "2     Control_RIPK2_1   1.22\n",
       "3     Control_RIPK2_1   1.78\n",
       "4     Control_RIPK2_1   0.59\n",
       "..                ...    ...\n",
       "499  Meditation_TNF_2   0.79\n",
       "500  Meditation_TNF_2   0.54\n",
       "501  Meditation_TNF_2   0.65\n",
       "502  Meditation_TNF_2    NaN\n",
       "503  Meditation_TNF_2    NaN\n",
       "\n",
       "[504 rows x 2 columns]"
      ],
      "text/html": "<div>\n<style scoped>\n    .dataframe tbody tr th:only-of-type {\n        vertical-align: middle;\n    }\n\n    .dataframe tbody tr th {\n        vertical-align: top;\n    }\n\n    .dataframe thead th {\n        text-align: right;\n    }\n</style>\n<table border=\"1\" class=\"dataframe\">\n  <thead>\n    <tr style=\"text-align: right;\">\n      <th></th>\n      <th>variable</th>\n      <th>value</th>\n    </tr>\n  </thead>\n  <tbody>\n    <tr>\n      <th>0</th>\n      <td>Control_RIPK2_1</td>\n      <td>0.70</td>\n    </tr>\n    <tr>\n      <th>1</th>\n      <td>Control_RIPK2_1</td>\n      <td>0.39</td>\n    </tr>\n    <tr>\n      <th>2</th>\n      <td>Control_RIPK2_1</td>\n      <td>1.22</td>\n    </tr>\n    <tr>\n      <th>3</th>\n      <td>Control_RIPK2_1</td>\n      <td>1.78</td>\n    </tr>\n    <tr>\n      <th>4</th>\n      <td>Control_RIPK2_1</td>\n      <td>0.59</td>\n    </tr>\n    <tr>\n      <th>...</th>\n      <td>...</td>\n      <td>...</td>\n    </tr>\n    <tr>\n      <th>499</th>\n      <td>Meditation_TNF_2</td>\n      <td>0.79</td>\n    </tr>\n    <tr>\n      <th>500</th>\n      <td>Meditation_TNF_2</td>\n      <td>0.54</td>\n    </tr>\n    <tr>\n      <th>501</th>\n      <td>Meditation_TNF_2</td>\n      <td>0.65</td>\n    </tr>\n    <tr>\n      <th>502</th>\n      <td>Meditation_TNF_2</td>\n      <td>NaN</td>\n    </tr>\n    <tr>\n      <th>503</th>\n      <td>Meditation_TNF_2</td>\n      <td>NaN</td>\n    </tr>\n  </tbody>\n</table>\n<p>504 rows × 2 columns</p>\n</div>"
     },
     "metadata": {},
     "execution_count": 40
    }
   ],
   "source": [
    "medi_index = medi.reset_index()\n",
    "medi_index\n",
    "# If we had the index column:\n",
    "medi_melt = pd.melt(medi_index, id_vars='index')\n",
    "\n",
    "# If we don't have an index column, or ID variables: \n",
    "medi_melt = pd.melt(medi)\n",
    "medi_melt\n"
   ]
  },
  {
   "cell_type": "code",
   "execution_count": 41,
   "metadata": {},
   "outputs": [
    {
     "output_type": "execute_result",
     "data": {
      "text/plain": [
       "     value   treatment   gene time\n",
       "0     0.70     Control  RIPK2    1\n",
       "1     0.39     Control  RIPK2    1\n",
       "2     1.22     Control  RIPK2    1\n",
       "3     1.78     Control  RIPK2    1\n",
       "4     0.59     Control  RIPK2    1\n",
       "..     ...         ...    ...  ...\n",
       "499   0.79  Meditation    TNF    2\n",
       "500   0.54  Meditation    TNF    2\n",
       "501   0.65  Meditation    TNF    2\n",
       "502    NaN  Meditation    TNF    2\n",
       "503    NaN  Meditation    TNF    2\n",
       "\n",
       "[504 rows x 4 columns]"
      ],
      "text/html": "<div>\n<style scoped>\n    .dataframe tbody tr th:only-of-type {\n        vertical-align: middle;\n    }\n\n    .dataframe tbody tr th {\n        vertical-align: top;\n    }\n\n    .dataframe thead th {\n        text-align: right;\n    }\n</style>\n<table border=\"1\" class=\"dataframe\">\n  <thead>\n    <tr style=\"text-align: right;\">\n      <th></th>\n      <th>value</th>\n      <th>treatment</th>\n      <th>gene</th>\n      <th>time</th>\n    </tr>\n  </thead>\n  <tbody>\n    <tr>\n      <th>0</th>\n      <td>0.70</td>\n      <td>Control</td>\n      <td>RIPK2</td>\n      <td>1</td>\n    </tr>\n    <tr>\n      <th>1</th>\n      <td>0.39</td>\n      <td>Control</td>\n      <td>RIPK2</td>\n      <td>1</td>\n    </tr>\n    <tr>\n      <th>2</th>\n      <td>1.22</td>\n      <td>Control</td>\n      <td>RIPK2</td>\n      <td>1</td>\n    </tr>\n    <tr>\n      <th>3</th>\n      <td>1.78</td>\n      <td>Control</td>\n      <td>RIPK2</td>\n      <td>1</td>\n    </tr>\n    <tr>\n      <th>4</th>\n      <td>0.59</td>\n      <td>Control</td>\n      <td>RIPK2</td>\n      <td>1</td>\n    </tr>\n    <tr>\n      <th>...</th>\n      <td>...</td>\n      <td>...</td>\n      <td>...</td>\n      <td>...</td>\n    </tr>\n    <tr>\n      <th>499</th>\n      <td>0.79</td>\n      <td>Meditation</td>\n      <td>TNF</td>\n      <td>2</td>\n    </tr>\n    <tr>\n      <th>500</th>\n      <td>0.54</td>\n      <td>Meditation</td>\n      <td>TNF</td>\n      <td>2</td>\n    </tr>\n    <tr>\n      <th>501</th>\n      <td>0.65</td>\n      <td>Meditation</td>\n      <td>TNF</td>\n      <td>2</td>\n    </tr>\n    <tr>\n      <th>502</th>\n      <td>NaN</td>\n      <td>Meditation</td>\n      <td>TNF</td>\n      <td>2</td>\n    </tr>\n    <tr>\n      <th>503</th>\n      <td>NaN</td>\n      <td>Meditation</td>\n      <td>TNF</td>\n      <td>2</td>\n    </tr>\n  </tbody>\n</table>\n<p>504 rows × 4 columns</p>\n</div>"
     },
     "metadata": {},
     "execution_count": 41
    }
   ],
   "source": [
    "medi_melt['treatment'] = medi_melt['variable'].str.split('_').str.get(0)\n",
    "\n",
    "# split up the three variables, call the .str attribute to get strings\n",
    "medi_melt['treatment'], medi_melt['gene'], medi_melt['time'] = medi_melt['variable'].str.split('_').str\n",
    "\n",
    "\n",
    "# Drop the variable column\n",
    "medi_melt.drop('variable', axis=1)\n"
   ]
  },
  {
   "cell_type": "code",
   "execution_count": null,
   "metadata": {},
   "outputs": [],
   "source": []
  }
 ]
}